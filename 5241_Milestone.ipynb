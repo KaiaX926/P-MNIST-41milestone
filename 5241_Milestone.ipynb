{
  "cells": [
    {
      "cell_type": "markdown",
      "metadata": {
        "id": "view-in-github",
        "colab_type": "text"
      },
      "source": [
        "<a href=\"https://colab.research.google.com/github/KaiaX926/P-MNIST-41milestone/blob/main/5241_Milestone.ipynb\" target=\"_parent\"><img src=\"https://colab.research.google.com/assets/colab-badge.svg\" alt=\"Open In Colab\"/></a>"
      ]
    },
    {
      "cell_type": "markdown",
      "metadata": {
        "id": "YsllEUh6f2eQ"
      },
      "source": [
        "# 1. Preparation"
      ]
    },
    {
      "cell_type": "code",
      "execution_count": 1,
      "metadata": {
        "id": "SyLxh4eAtu0V"
      },
      "outputs": [],
      "source": [
        "import torchvision\n",
        "import numpy as np\n",
        "import matplotlib.pyplot as plt\n"
      ]
    },
    {
      "cell_type": "code",
      "execution_count": null,
      "metadata": {
        "colab": {
          "base_uri": "https://localhost:8080/",
          "height": 0,
          "referenced_widgets": [
            "f343407121c8486e9716f03c2d48be7f",
            "8dbc7f7df1f64700bbe9e8321f207e17",
            "fb84061a37f04d91a414b7506a6b7609",
            "f145e2fbda3b44afbab7b58dddd71474",
            "c70b6205990e44a4b427ab9d0593e761",
            "8be0f6b77634475f94000e1637cea0a6",
            "816df55375814fb3bd999bbc9d9f0a5a",
            "e4d20d7c001a4891a040f980d0879bcb",
            "a91b96dd2a0f4c9c937ba184ff9d63e0",
            "eb6cb81511ce4df9a2e955ac943e22a4",
            "a4623fed74d547d4b834e178c49f076b"
          ]
        },
        "id": "o6M0ySzktwp_",
        "outputId": "4eb5bad4-7cb9-4a7f-89c8-10fa867c888d"
      },
      "outputs": [
        {
          "output_type": "stream",
          "name": "stdout",
          "text": [
            "Downloading http://yann.lecun.com/exdb/mnist/train-images-idx3-ubyte.gz\n",
            "Downloading http://yann.lecun.com/exdb/mnist/train-images-idx3-ubyte.gz to ./ mnist /MNIST/raw/train-images-idx3-ubyte.gz\n"
          ]
        },
        {
          "output_type": "display_data",
          "data": {
            "text/plain": [
              "  0%|          | 0/9912422 [00:00<?, ?it/s]"
            ],
            "application/vnd.jupyter.widget-view+json": {
              "version_major": 2,
              "version_minor": 0,
              "model_id": "f343407121c8486e9716f03c2d48be7f"
            }
          },
          "metadata": {}
        },
        {
          "output_type": "stream",
          "name": "stdout",
          "text": [
            "Extracting ./ mnist /MNIST/raw/train-images-idx3-ubyte.gz to ./ mnist /MNIST/raw\n"
          ]
        }
      ],
      "source": [
        "DOWNLOAD_MNIST = True # If already download , set as False\n",
        "train_data = torchvision . datasets . MNIST (\n",
        "  root ='./ mnist /',\n",
        "  train = True , # this is training data\n",
        "  # transform = torchvision . transforms . ToTensor () ,\n",
        "  download = DOWNLOAD_MNIST ,\n",
        ")\n",
        "test_data = torchvision . datasets . MNIST ( root ='./ mnist /', train = False )\n",
        "\n",
        "# change the features to numpy\n",
        "X_train = train_data . train_data . numpy ()\n",
        "X_test = test_data . test_data . numpy ()\n",
        "\n",
        "# change the labels to numpy\n",
        "Y_train = train_data . train_labels . numpy ()\n",
        "Y_test = test_data . test_labels . numpy ()"
      ]
    },
    {
      "cell_type": "markdown",
      "metadata": {
        "id": "a_LYOAJuuO3S"
      },
      "source": [
        "# 2.Data Processing"
      ]
    },
    {
      "cell_type": "markdown",
      "metadata": {
        "id": "Z47_RU8LuUkH"
      },
      "source": [
        "## **(a)** \n",
        "Plot one sample in X train. What is the number you see from the 28 × 28 pixel-field? Does it match with the label in Y train?\n",
        "\n",
        "A: Yes. The image of figure 3 has the label as 3\n"
      ]
    },
    {
      "cell_type": "code",
      "execution_count": null,
      "metadata": {
        "id": "cKY5nZISuEMy"
      },
      "outputs": [],
      "source": [
        "image_idx = np.random.choice(range(X_train.shape[0]))\n",
        "image = X_train[image_idx]\n",
        "image_class = Y_train[image_idx]\n",
        "plt.figure(figsize=(3, 3))\n",
        "plt.imshow(X_train[image_idx].astype(\"uint8\"))\n",
        "plt.title(image_class)\n",
        "_ = plt.axis(\"off\")"
      ]
    },
    {
      "cell_type": "markdown",
      "metadata": {
        "id": "1tWzB2QFwAUM"
      },
      "source": [
        "## **(b)** \n",
        "What is the dimension of X train and X test? Normalize X train and X test such that the value of each element lies in [0, 1]."
      ]
    },
    {
      "cell_type": "code",
      "execution_count": null,
      "metadata": {
        "id": "Rpy7fQguwHHs"
      },
      "outputs": [],
      "source": [
        "print(X_train.shape, X_test.shape)"
      ]
    },
    {
      "cell_type": "code",
      "execution_count": null,
      "metadata": {
        "id": "y5Ku8zCizDl8"
      },
      "outputs": [],
      "source": [
        "np.max(X_train),np.min(X_train),np.max(X_test),np.min(X_test)"
      ]
    },
    {
      "cell_type": "code",
      "execution_count": null,
      "metadata": {
        "id": "f9rqowL0wWH5"
      },
      "outputs": [],
      "source": [
        "X_train_normalized = X_train/255\n",
        "X_test_normalized = X_test/255\n",
        "\n",
        "# for i in range(len(X_train)):\n",
        "#   X_train_normalized[i] = (X_train[i] - np.mean(X_train[i])) / np.std(X_train[i])\n",
        "\n",
        "# for i in range(len(X_test)):\n",
        "#   X_test_normalized[i] = (X_test[i] - np.mean(X_test[i])) / np.std(X_test[i])\n",
        "\n",
        "print(X_train_normalized.shape, X_test_normalized.shape)\n",
        "print(np.max(X_train_normalized), np.min(X_train_normalized),np.max(X_test_normalized), np.min(X_test_normalized))"
      ]
    },
    {
      "cell_type": "markdown",
      "metadata": {
        "id": "SOUPaegT5QAy"
      },
      "source": [
        "## **(c)** \n",
        "A popular choice to deal with the labels is to use the one-hot embedding. Represent\n",
        "Y train and Y test using one-hot embedding. List the benefit of such transformation."
      ]
    },
    {
      "cell_type": "code",
      "execution_count": null,
      "metadata": {
        "id": "7vwqZ0uV2wyd"
      },
      "outputs": [],
      "source": [
        "from tensorflow.keras.utils import to_categorical\n",
        "train_labels = to_categorical(Y_train, num_classes=10)\n",
        "test_labels = to_categorical(Y_test, num_classes=10)\n",
        "print(train_labels.shape, np.unique(train_labels))"
      ]
    },
    {
      "cell_type": "markdown",
      "metadata": {
        "id": "Vh7tOCAy6KrM"
      },
      "source": [
        "1. It eliminates the influence of the numeric value labels in prediction. For example, the computer might assume group 1 is closer to group 2 than to group 9. However, the distance between them is not affected by the group number at all.\n",
        "2. If the tags are strings, one-hot embedding will help transfer the labels into numbers for predictions."
      ]
    },
    {
      "cell_type": "markdown",
      "metadata": {
        "id": "6zYGTIqUFVgh"
      },
      "source": [
        "# 3. Before Deep Learning"
      ]
    },
    {
      "cell_type": "markdown",
      "metadata": {
        "id": "TjMJJRW_FQhi"
      },
      "source": [
        "## **(a)** \n",
        "Try to implement and train the above mentioned classifier on the training\n",
        "dataset, and report the test errors of them using the test dataset. Can you reproduce\n",
        "the results? If not, please justify your reason\n",
        "\n",
        "A: The specific test error cannot be reproduced since the random state is not anchored. However, the trend of error rate among the three predictors is maintained."
      ]
    },
    {
      "cell_type": "code",
      "execution_count": null,
      "metadata": {
        "id": "eKodxeo-2ABF"
      },
      "outputs": [],
      "source": [
        "def errorrate(y_pred, y_true):\n",
        "  error = sum([y_pred[i]!=y_true[i] for i in range(len(y_true))])\n",
        "  return error/len(y_true)"
      ]
    },
    {
      "cell_type": "markdown",
      "metadata": {
        "id": "8NXFLPtEFvsw"
      },
      "source": [
        "### KNN"
      ]
    },
    {
      "cell_type": "code",
      "execution_count": null,
      "metadata": {
        "id": "Io69BuFLQ-VQ"
      },
      "outputs": [],
      "source": [
        "# x_train = np.reshape(X_train_normalized,(60000,28*28))\n",
        "# x_test = np.reshape(X_test_normalized,(10000,28*28))"
      ]
    },
    {
      "cell_type": "code",
      "execution_count": null,
      "metadata": {
        "id": "4Tj7pm-lFwy0"
      },
      "outputs": [],
      "source": [
        "from sklearn.neighbors import KNeighborsClassifier\n",
        "from sklearn.metrics import accuracy_score\n",
        "KNN = KNeighborsClassifier(n_neighbors=10)\n",
        "KNN.fit(np.reshape(X_train_normalized,(60000,28*28)),Y_train)\n",
        "knn_prediction = KNN.predict(np.reshape(X_test_normalized,(10000,28*28)))\n",
        "KNN_accuracy = accuracy_score(Y_test, knn_prediction)\n",
        "print('Test Error of KNN is: ', errorrate(knn_prediction,Y_test))\n",
        "print('Accuracy_score of KNN is: ', KNN_accuracy)"
      ]
    },
    {
      "cell_type": "markdown",
      "metadata": {
        "id": "jiMjsjjRUeLR"
      },
      "source": [
        "### AdaBoost"
      ]
    },
    {
      "cell_type": "code",
      "execution_count": null,
      "metadata": {
        "id": "RD0Z0nEZUede"
      },
      "outputs": [],
      "source": [
        "from sklearn.ensemble import AdaBoostClassifier\n",
        "ABC = AdaBoostClassifier(n_estimators=100, learning_rate=0.1)\n",
        "ABC.fit(np.reshape(X_train_normalized,(60000,28*28)),Y_train)\n",
        "abc_prediction = ABC.predict(np.reshape(X_test_normalized,(10000,28*28)))\n",
        "ABC_accuracy = accuracy_score(Y_test, abc_prediction)\n",
        "print('Test Error of AdaBoost is: ', errorrate(abc_prediction,Y_test))\n",
        "print('Accuracy_score of AdaBoost is: ', ABC_accuracy)"
      ]
    },
    {
      "cell_type": "markdown",
      "metadata": {
        "id": "IAGv7nVNUUSM"
      },
      "source": [
        "### SVM"
      ]
    },
    {
      "cell_type": "code",
      "execution_count": null,
      "metadata": {
        "id": "JIM9blYnSS-l"
      },
      "outputs": [],
      "source": [
        "from sklearn.svm import SVC\n",
        "from sklearn.metrics import accuracy_score\n",
        "SVM = SVC(kernel='rbf')\n",
        "SVM.fit(np.reshape(X_train_normalized,(60000,28*28)),Y_train)\n",
        "svm_prediction = SVM.predict(np.reshape(X_test_normalized,(10000,28*28)))\n",
        "SVM_accuracy = accuracy_score(Y_test, svm_prediction)\n",
        "print('Test Error of SVM is: ', errorrate(svm_prediction,Y_test))\n",
        "print('Accuracy_score of SVM is: ', SVM_accuracy)"
      ]
    },
    {
      "cell_type": "markdown",
      "metadata": {
        "id": "EMWFZpvyaqxO"
      },
      "source": [
        "## **(b)**\n",
        "Pick your favorite classifier (not limited to the above mentioned algorithms)\n",
        "and try to implement it on the training set and report the test error using the test\n",
        "dataset. Turn the hyperparameters until it out perform all three of the classifier you\n",
        "implemented in part 2(a)."
      ]
    },
    {
      "cell_type": "markdown",
      "metadata": {
        "id": "LAbxBlKHPfRz"
      },
      "source": [
        "### SVM GridSearchCV"
      ]
    },
    {
      "cell_type": "code",
      "execution_count": null,
      "metadata": {
        "id": "xEIcPqf7Ts7b"
      },
      "outputs": [],
      "source": [
        "from sklearn.model_selection import GridSearchCV\n",
        "\n",
        "#parameters = {'kernel':('linear', 'poly', 'rbf', 'sigmoid', 'precomputed'), 'C':[1, 5]}\n",
        "#parameters = {'C':[0.1, 0.5, 1, 2],'degree':[3,4,5]}\n",
        "parameters = {'degree':[3,4,5,6,7]}\n",
        "\n",
        "clf_svc = SVC(kernel = 'poly')\n",
        "clf = GridSearchCV(clf_svc, parameters, refit=True)\n",
        "clf.fit(np.reshape(X_train_normalized,(60000,28*28)),Y_train)\n",
        "#print('The model we pick is SVM with:', clf.best_params_())\n",
        "clf_prediction = clf.predict(np.reshape(X_test_normalized,(10000,28*28)))\n",
        "clf_accuracy = accuracy_score(Y_test, clf_prediction)\n",
        "print('Test Error of a better SVM is: ', errorrate(clf_prediction,Y_test))\n",
        "print('Accuracy_score of a better SVM is: ', clf_accuracy)"
      ]
    },
    {
      "cell_type": "markdown",
      "metadata": {
        "id": "ax2t5knsSd4Z"
      },
      "source": [
        "### Gaussian Navie Bayesian"
      ]
    },
    {
      "cell_type": "code",
      "execution_count": null,
      "metadata": {
        "id": "3ZumG5DZSf8G"
      },
      "outputs": [],
      "source": [
        "from sklearn.naive_bayes import GaussianNB\n",
        "\n",
        "gnb = GaussianNB()\n",
        "gnb.fit(np.reshape(X_train_normalized,(60000,28*28)),Y_train)\n",
        "gnb_prediction = gnb.predict(np.reshape(X_test_normalized,(10000,28*28)))\n",
        "gnb_accuracy = accuracy_score(Y_test, gnb_prediction)\n",
        "print('Test Error of a better GaussianNB is: ', errorrate(gnb_prediction,Y_test))\n",
        "print('Accuracy_score of a better GaussianNB is: ', gnb_accuracy)"
      ]
    },
    {
      "cell_type": "markdown",
      "metadata": {
        "id": "0X-ogARUPkEy"
      },
      "source": [
        "### CNN"
      ]
    },
    {
      "cell_type": "code",
      "execution_count": null,
      "metadata": {
        "id": "u2p-NeHgR_CO"
      },
      "outputs": [],
      "source": [
        "import torch\n",
        "from torchvision import datasets\n",
        "import torchvision.transforms as transforms\n",
        "\n",
        "# number of subprocesses to use for data loading\n",
        "num_workers = 0\n",
        "# how many samples per batch to load\n",
        "batch_size = 20\n",
        "\n",
        "# convert data to torch.FloatTensor\n",
        "transform = transforms.ToTensor()\n",
        "\n",
        "# choose the training and test datasets\n",
        "train_data = datasets.MNIST(root='data', train=True,\n",
        "                                   download=True, transform=transform)\n",
        "test_data = datasets.MNIST(root='data', train=False,\n",
        "                                  download=True, transform=transform)\n",
        "\n",
        "# prepare data loaders\n",
        "train_loader = torch.utils.data.DataLoader(train_data, batch_size=batch_size,\n",
        "    num_workers=num_workers)\n",
        "test_loader = torch.utils.data.DataLoader(test_data, batch_size=batch_size, \n",
        "    num_workers=num_workers)"
      ]
    },
    {
      "cell_type": "code",
      "execution_count": null,
      "metadata": {
        "id": "-8J6kmAjFw3O"
      },
      "outputs": [],
      "source": [
        "# Define the model\n",
        "# import libraries\n",
        "import torch.nn as nn\n",
        "import torch.nn.functional as F\n",
        "\n",
        "\n",
        "# define the NN architecture\n",
        "class Net(nn.Module):\n",
        "    def __init__(self):\n",
        "        super(Net, self).__init__()\n",
        "        # number of hidden nodes in each layer (512)\n",
        "        hidden_1 = 512\n",
        "        hidden_2 = 512\n",
        "        # linear layer (784 -> hidden_1)\n",
        "        self.fc1 = nn.Linear(28 * 28, hidden_1)\n",
        "        # linear layer (n_hidden -> hidden_2)\n",
        "        self.fc2 = nn.Linear(hidden_1, hidden_2)\n",
        "        # linear layer (n_hidden -> 10)\n",
        "        self.fc3 = nn.Linear(hidden_2, 10)\n",
        "        # dropout layer (p=0.2)\n",
        "        # dropout prevents overfitting of data\n",
        "        self.dropout = nn.Dropout(0.2)\n",
        "\n",
        "    def forward(self, x):\n",
        "        # flatten image input\n",
        "        x = x.view(-1, 28 * 28)\n",
        "        # add hidden layer, with relu activation function\n",
        "        x = F.relu(self.fc1(x))\n",
        "        # add dropout layer\n",
        "        x = self.dropout(x)\n",
        "        # add hidden layer, with relu activation function\n",
        "        x = F.relu(self.fc2(x))\n",
        "        # add dropout layer\n",
        "        x = self.dropout(x)\n",
        "        # add output layer\n",
        "        x = self.fc3(x)\n",
        "        return x\n",
        "\n",
        "# initialize the NN\n",
        "model = Net()\n",
        "print(model)"
      ]
    },
    {
      "cell_type": "code",
      "execution_count": null,
      "metadata": {
        "id": "LaE7f3IvQPGf"
      },
      "outputs": [],
      "source": [
        "# specify loss function (categorical cross-entropy)\n",
        "criterion = nn.CrossEntropyLoss()\n",
        "\n",
        "# specify optimizer (stochastic gradient descent) and learning rate = 0.01\n",
        "optimizer = torch.optim.SGD(model.parameters(), lr=0.01)"
      ]
    },
    {
      "cell_type": "code",
      "execution_count": null,
      "metadata": {
        "id": "Ojo4ZrgGQSCK"
      },
      "outputs": [],
      "source": [
        "# number of epochs to train the model\n",
        "n_epochs = 50\n",
        "\n",
        "model.train() # prep model for training\n",
        "\n",
        "for epoch in range(n_epochs):\n",
        "    # monitor training loss\n",
        "    train_loss = 0.0\n",
        "    \n",
        "    ###################\n",
        "    # train the model #\n",
        "    ###################\n",
        "    for data, target in train_loader: #train_loader:train_labels = to_categorical(Y_train)\n",
        "        # clear the gradients of all optimized variables\n",
        "        optimizer.zero_grad()\n",
        "        # forward pass: compute predicted outputs by passing inputs to the model\n",
        "        output = model(data)\n",
        "        # calculate the loss\n",
        "        loss = criterion(output, target)\n",
        "        # backward pass: compute gradient of the loss with respect to model parameters\n",
        "        loss.backward()\n",
        "        # perform a single optimization step (parameter update)\n",
        "        optimizer.step()\n",
        "        # update running training loss\n",
        "        train_loss += loss.item()*data.size(0)\n",
        "             \n",
        "    # print training statistics \n",
        "    # calculate average loss over an epoch\n",
        "    train_loss = train_loss/len(X_train_normalized)\n",
        "\n",
        "    print('Epoch: {} \\tTraining Loss: {:.6f}'.format(\n",
        "        epoch+1, \n",
        "        train_loss\n",
        "        ))"
      ]
    },
    {
      "cell_type": "code",
      "execution_count": null,
      "metadata": {
        "id": "q1O5AQtgTLXy"
      },
      "outputs": [],
      "source": [
        "cnn_prediction = []\n",
        "\n",
        "for data, target in test_loader:\n",
        "    # forward pass: compute predicted outputs by passing inputs to the model\n",
        "    output = model(data)\n",
        "    _, pred = torch.max(output, 1)\n",
        "    cnn_prediction += list(pred)\n",
        "\n",
        "#cnn_prediction = model.predict(np.reshape(X_test_normalized,(10000,28*28)))\n",
        "cnn_accuracy = accuracy_score(Y_test, cnn_prediction)\n",
        "print('Test Error of a CNN is: ', errorrate(cnn_prediction,Y_test))\n",
        "print('Accuracy_score of a CNN is: ', cnn_accuracy)"
      ]
    }
  ],
  "metadata": {
    "colab": {
      "collapsed_sections": [
        "YsllEUh6f2eQ",
        "Z47_RU8LuUkH",
        "1tWzB2QFwAUM",
        "SOUPaegT5QAy",
        "8NXFLPtEFvsw",
        "jiMjsjjRUeLR",
        "IAGv7nVNUUSM"
      ],
      "name": "5241-Milestone.ipynb",
      "provenance": [],
      "authorship_tag": "ABX9TyPtM+TdNex/aT5WnpaSZQL0",
      "include_colab_link": true
    },
    "kernelspec": {
      "display_name": "Python 3",
      "name": "python3"
    },
    "language_info": {
      "name": "python"
    },
    "widgets": {
      "application/vnd.jupyter.widget-state+json": {
        "f343407121c8486e9716f03c2d48be7f": {
          "model_module": "@jupyter-widgets/controls",
          "model_name": "HBoxModel",
          "model_module_version": "1.5.0",
          "state": {
            "_dom_classes": [],
            "_model_module": "@jupyter-widgets/controls",
            "_model_module_version": "1.5.0",
            "_model_name": "HBoxModel",
            "_view_count": null,
            "_view_module": "@jupyter-widgets/controls",
            "_view_module_version": "1.5.0",
            "_view_name": "HBoxView",
            "box_style": "",
            "children": [
              "IPY_MODEL_8dbc7f7df1f64700bbe9e8321f207e17",
              "IPY_MODEL_fb84061a37f04d91a414b7506a6b7609",
              "IPY_MODEL_f145e2fbda3b44afbab7b58dddd71474"
            ],
            "layout": "IPY_MODEL_c70b6205990e44a4b427ab9d0593e761"
          }
        },
        "8dbc7f7df1f64700bbe9e8321f207e17": {
          "model_module": "@jupyter-widgets/controls",
          "model_name": "HTMLModel",
          "model_module_version": "1.5.0",
          "state": {
            "_dom_classes": [],
            "_model_module": "@jupyter-widgets/controls",
            "_model_module_version": "1.5.0",
            "_model_name": "HTMLModel",
            "_view_count": null,
            "_view_module": "@jupyter-widgets/controls",
            "_view_module_version": "1.5.0",
            "_view_name": "HTMLView",
            "description": "",
            "description_tooltip": null,
            "layout": "IPY_MODEL_8be0f6b77634475f94000e1637cea0a6",
            "placeholder": "​",
            "style": "IPY_MODEL_816df55375814fb3bd999bbc9d9f0a5a",
            "value": ""
          }
        },
        "fb84061a37f04d91a414b7506a6b7609": {
          "model_module": "@jupyter-widgets/controls",
          "model_name": "FloatProgressModel",
          "model_module_version": "1.5.0",
          "state": {
            "_dom_classes": [],
            "_model_module": "@jupyter-widgets/controls",
            "_model_module_version": "1.5.0",
            "_model_name": "FloatProgressModel",
            "_view_count": null,
            "_view_module": "@jupyter-widgets/controls",
            "_view_module_version": "1.5.0",
            "_view_name": "ProgressView",
            "bar_style": "success",
            "description": "",
            "description_tooltip": null,
            "layout": "IPY_MODEL_e4d20d7c001a4891a040f980d0879bcb",
            "max": 9912422,
            "min": 0,
            "orientation": "horizontal",
            "style": "IPY_MODEL_a91b96dd2a0f4c9c937ba184ff9d63e0",
            "value": 9912422
          }
        },
        "f145e2fbda3b44afbab7b58dddd71474": {
          "model_module": "@jupyter-widgets/controls",
          "model_name": "HTMLModel",
          "model_module_version": "1.5.0",
          "state": {
            "_dom_classes": [],
            "_model_module": "@jupyter-widgets/controls",
            "_model_module_version": "1.5.0",
            "_model_name": "HTMLModel",
            "_view_count": null,
            "_view_module": "@jupyter-widgets/controls",
            "_view_module_version": "1.5.0",
            "_view_name": "HTMLView",
            "description": "",
            "description_tooltip": null,
            "layout": "IPY_MODEL_eb6cb81511ce4df9a2e955ac943e22a4",
            "placeholder": "​",
            "style": "IPY_MODEL_a4623fed74d547d4b834e178c49f076b",
            "value": " 9913344/? [00:00&lt;00:00, 30771645.96it/s]"
          }
        },
        "c70b6205990e44a4b427ab9d0593e761": {
          "model_module": "@jupyter-widgets/base",
          "model_name": "LayoutModel",
          "model_module_version": "1.2.0",
          "state": {
            "_model_module": "@jupyter-widgets/base",
            "_model_module_version": "1.2.0",
            "_model_name": "LayoutModel",
            "_view_count": null,
            "_view_module": "@jupyter-widgets/base",
            "_view_module_version": "1.2.0",
            "_view_name": "LayoutView",
            "align_content": null,
            "align_items": null,
            "align_self": null,
            "border": null,
            "bottom": null,
            "display": null,
            "flex": null,
            "flex_flow": null,
            "grid_area": null,
            "grid_auto_columns": null,
            "grid_auto_flow": null,
            "grid_auto_rows": null,
            "grid_column": null,
            "grid_gap": null,
            "grid_row": null,
            "grid_template_areas": null,
            "grid_template_columns": null,
            "grid_template_rows": null,
            "height": null,
            "justify_content": null,
            "justify_items": null,
            "left": null,
            "margin": null,
            "max_height": null,
            "max_width": null,
            "min_height": null,
            "min_width": null,
            "object_fit": null,
            "object_position": null,
            "order": null,
            "overflow": null,
            "overflow_x": null,
            "overflow_y": null,
            "padding": null,
            "right": null,
            "top": null,
            "visibility": null,
            "width": null
          }
        },
        "8be0f6b77634475f94000e1637cea0a6": {
          "model_module": "@jupyter-widgets/base",
          "model_name": "LayoutModel",
          "model_module_version": "1.2.0",
          "state": {
            "_model_module": "@jupyter-widgets/base",
            "_model_module_version": "1.2.0",
            "_model_name": "LayoutModel",
            "_view_count": null,
            "_view_module": "@jupyter-widgets/base",
            "_view_module_version": "1.2.0",
            "_view_name": "LayoutView",
            "align_content": null,
            "align_items": null,
            "align_self": null,
            "border": null,
            "bottom": null,
            "display": null,
            "flex": null,
            "flex_flow": null,
            "grid_area": null,
            "grid_auto_columns": null,
            "grid_auto_flow": null,
            "grid_auto_rows": null,
            "grid_column": null,
            "grid_gap": null,
            "grid_row": null,
            "grid_template_areas": null,
            "grid_template_columns": null,
            "grid_template_rows": null,
            "height": null,
            "justify_content": null,
            "justify_items": null,
            "left": null,
            "margin": null,
            "max_height": null,
            "max_width": null,
            "min_height": null,
            "min_width": null,
            "object_fit": null,
            "object_position": null,
            "order": null,
            "overflow": null,
            "overflow_x": null,
            "overflow_y": null,
            "padding": null,
            "right": null,
            "top": null,
            "visibility": null,
            "width": null
          }
        },
        "816df55375814fb3bd999bbc9d9f0a5a": {
          "model_module": "@jupyter-widgets/controls",
          "model_name": "DescriptionStyleModel",
          "model_module_version": "1.5.0",
          "state": {
            "_model_module": "@jupyter-widgets/controls",
            "_model_module_version": "1.5.0",
            "_model_name": "DescriptionStyleModel",
            "_view_count": null,
            "_view_module": "@jupyter-widgets/base",
            "_view_module_version": "1.2.0",
            "_view_name": "StyleView",
            "description_width": ""
          }
        },
        "e4d20d7c001a4891a040f980d0879bcb": {
          "model_module": "@jupyter-widgets/base",
          "model_name": "LayoutModel",
          "model_module_version": "1.2.0",
          "state": {
            "_model_module": "@jupyter-widgets/base",
            "_model_module_version": "1.2.0",
            "_model_name": "LayoutModel",
            "_view_count": null,
            "_view_module": "@jupyter-widgets/base",
            "_view_module_version": "1.2.0",
            "_view_name": "LayoutView",
            "align_content": null,
            "align_items": null,
            "align_self": null,
            "border": null,
            "bottom": null,
            "display": null,
            "flex": null,
            "flex_flow": null,
            "grid_area": null,
            "grid_auto_columns": null,
            "grid_auto_flow": null,
            "grid_auto_rows": null,
            "grid_column": null,
            "grid_gap": null,
            "grid_row": null,
            "grid_template_areas": null,
            "grid_template_columns": null,
            "grid_template_rows": null,
            "height": null,
            "justify_content": null,
            "justify_items": null,
            "left": null,
            "margin": null,
            "max_height": null,
            "max_width": null,
            "min_height": null,
            "min_width": null,
            "object_fit": null,
            "object_position": null,
            "order": null,
            "overflow": null,
            "overflow_x": null,
            "overflow_y": null,
            "padding": null,
            "right": null,
            "top": null,
            "visibility": null,
            "width": null
          }
        },
        "a91b96dd2a0f4c9c937ba184ff9d63e0": {
          "model_module": "@jupyter-widgets/controls",
          "model_name": "ProgressStyleModel",
          "model_module_version": "1.5.0",
          "state": {
            "_model_module": "@jupyter-widgets/controls",
            "_model_module_version": "1.5.0",
            "_model_name": "ProgressStyleModel",
            "_view_count": null,
            "_view_module": "@jupyter-widgets/base",
            "_view_module_version": "1.2.0",
            "_view_name": "StyleView",
            "bar_color": null,
            "description_width": ""
          }
        },
        "eb6cb81511ce4df9a2e955ac943e22a4": {
          "model_module": "@jupyter-widgets/base",
          "model_name": "LayoutModel",
          "model_module_version": "1.2.0",
          "state": {
            "_model_module": "@jupyter-widgets/base",
            "_model_module_version": "1.2.0",
            "_model_name": "LayoutModel",
            "_view_count": null,
            "_view_module": "@jupyter-widgets/base",
            "_view_module_version": "1.2.0",
            "_view_name": "LayoutView",
            "align_content": null,
            "align_items": null,
            "align_self": null,
            "border": null,
            "bottom": null,
            "display": null,
            "flex": null,
            "flex_flow": null,
            "grid_area": null,
            "grid_auto_columns": null,
            "grid_auto_flow": null,
            "grid_auto_rows": null,
            "grid_column": null,
            "grid_gap": null,
            "grid_row": null,
            "grid_template_areas": null,
            "grid_template_columns": null,
            "grid_template_rows": null,
            "height": null,
            "justify_content": null,
            "justify_items": null,
            "left": null,
            "margin": null,
            "max_height": null,
            "max_width": null,
            "min_height": null,
            "min_width": null,
            "object_fit": null,
            "object_position": null,
            "order": null,
            "overflow": null,
            "overflow_x": null,
            "overflow_y": null,
            "padding": null,
            "right": null,
            "top": null,
            "visibility": null,
            "width": null
          }
        },
        "a4623fed74d547d4b834e178c49f076b": {
          "model_module": "@jupyter-widgets/controls",
          "model_name": "DescriptionStyleModel",
          "model_module_version": "1.5.0",
          "state": {
            "_model_module": "@jupyter-widgets/controls",
            "_model_module_version": "1.5.0",
            "_model_name": "DescriptionStyleModel",
            "_view_count": null,
            "_view_module": "@jupyter-widgets/base",
            "_view_module_version": "1.2.0",
            "_view_name": "StyleView",
            "description_width": ""
          }
        }
      }
    }
  },
  "nbformat": 4,
  "nbformat_minor": 0
}